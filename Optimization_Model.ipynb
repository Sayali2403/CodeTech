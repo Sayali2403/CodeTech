{
  "nbformat": 4,
  "nbformat_minor": 0,
  "metadata": {
    "colab": {
      "provenance": []
    },
    "kernelspec": {
      "name": "python3",
      "display_name": "Python 3"
    },
    "language_info": {
      "name": "python"
    }
  },
  "cells": [
    {
      "cell_type": "markdown",
      "source": [
        "Optimization Pulp (Optimizing Factories Productions)"
      ],
      "metadata": {
        "id": "pd7vTvqiog6m"
      }
    },
    {
      "cell_type": "code",
      "execution_count": 1,
      "metadata": {
        "colab": {
          "base_uri": "https://localhost:8080/"
        },
        "id": "NGSJvBHSnGor",
        "outputId": "9ac4b285-f260-4197-985d-0e1abf2ea646"
      },
      "outputs": [
        {
          "output_type": "stream",
          "name": "stdout",
          "text": [
            "Collecting pulp\n",
            "  Downloading PuLP-3.0.2-py3-none-any.whl.metadata (6.7 kB)\n",
            "Downloading PuLP-3.0.2-py3-none-any.whl (17.7 MB)\n",
            "\u001b[2K   \u001b[90m━━━━━━━━━━━━━━━━━━━━━━━━━━━━━━━━━━━━━━━━\u001b[0m \u001b[32m17.7/17.7 MB\u001b[0m \u001b[31m38.9 MB/s\u001b[0m eta \u001b[36m0:00:00\u001b[0m\n",
            "\u001b[?25hInstalling collected packages: pulp\n",
            "Successfully installed pulp-3.0.2\n"
          ]
        }
      ],
      "source": [
        "!pip install pulp"
      ]
    },
    {
      "cell_type": "markdown",
      "source": [
        "Importing dependencies"
      ],
      "metadata": {
        "id": "t1jru3yJpGXd"
      }
    },
    {
      "cell_type": "code",
      "source": [
        "import pulp\n",
        "import pandas as pd"
      ],
      "metadata": {
        "id": "9Mf8ajOep4j6"
      },
      "execution_count": 2,
      "outputs": []
    },
    {
      "cell_type": "markdown",
      "source": [
        "Define the problem(Maximization)"
      ],
      "metadata": {
        "id": "SOvORNX-rKUf"
      }
    },
    {
      "cell_type": "code",
      "source": [
        "# Define the optimization problem\n",
        "prob = pulp.LpProblem(\"Maximize_Profit\", pulp.LpMaximize)"
      ],
      "metadata": {
        "id": "YQhp7n9GrNcn"
      },
      "execution_count": 8,
      "outputs": []
    },
    {
      "cell_type": "code",
      "source": [
        "# Define decision variables\n",
        "A = pulp.LpVariable(\"Product_A\", lowBound=0, cat='Continuous')  # Number of units of Product A\n",
        "B = pulp.LpVariable(\"Product_B\", lowBound=0, cat='Continuous')  # Number of units of Product B"
      ],
      "metadata": {
        "id": "q4W4dNm6rXYW"
      },
      "execution_count": 9,
      "outputs": []
    },
    {
      "cell_type": "code",
      "source": [
        "# Define constants (profits and resource constraints)\n",
        "profit_A = 40\n",
        "profit_B = 30\n",
        "labor_A = 2\n",
        "labor_B = 1\n",
        "material_A = 3\n",
        "material_B = 2\n",
        "labor_limit = 100\n",
        "material_limit = 120"
      ],
      "metadata": {
        "id": "YojKpUAvrbfx"
      },
      "execution_count": 10,
      "outputs": []
    },
    {
      "cell_type": "code",
      "source": [
        "# Define the objective function (Maximizing Profit)\n",
        "prob += profit_A * A + profit_B * B, \"Total Profit\""
      ],
      "metadata": {
        "id": "Un930s1mrhGy"
      },
      "execution_count": 11,
      "outputs": []
    },
    {
      "cell_type": "code",
      "source": [
        "# Define Constraints\n",
        "prob += labor_A * A + labor_B * B <= labor_limit, \"Labor Constraint\"\n",
        "prob += material_A * A + material_B * B <= material_limit, \"Material Constraint\""
      ],
      "metadata": {
        "id": "-igGV3NYr2wn"
      },
      "execution_count": 12,
      "outputs": []
    },
    {
      "cell_type": "markdown",
      "source": [
        "Solve the Problem"
      ],
      "metadata": {
        "id": "62O-Eejur6QU"
      }
    },
    {
      "cell_type": "code",
      "source": [
        "# Solve the optimization problem\n",
        "prob.solve()"
      ],
      "metadata": {
        "colab": {
          "base_uri": "https://localhost:8080/"
        },
        "id": "ukJMUqcZsAka",
        "outputId": "0e64ea00-7c2f-40e5-f718-d959c0834735"
      },
      "execution_count": 13,
      "outputs": [
        {
          "output_type": "execute_result",
          "data": {
            "text/plain": [
              "1"
            ]
          },
          "metadata": {},
          "execution_count": 13
        }
      ]
    },
    {
      "cell_type": "code",
      "source": [
        "# Store results in a structured format using pandas\n",
        "data = {\n",
        "    \"Variable\": [\"Product A\", \"Product B\", \"Total Profit\"],\n",
        "    \"Optimal Value\": [pulp.value(A), pulp.value(B), pulp.value(prob.objective)]\n",
        "}\n",
        "result_df = pd.DataFrame(data)"
      ],
      "metadata": {
        "id": "SN7AqhWysGoW"
      },
      "execution_count": 14,
      "outputs": []
    },
    {
      "cell_type": "markdown",
      "source": [
        "Result"
      ],
      "metadata": {
        "id": "hU2twXb1sJsQ"
      }
    },
    {
      "cell_type": "code",
      "source": [
        "# Print results\n",
        "print(\"Status:\", pulp.LpStatus[prob.status])  # Show whether an optimal solution was found\n",
        "print(result_df)  # Display the results in a table format"
      ],
      "metadata": {
        "colab": {
          "base_uri": "https://localhost:8080/"
        },
        "id": "q8vEfyaUsLdD",
        "outputId": "a29e1054-6979-44c8-baea-dfea0085b348"
      },
      "execution_count": 15,
      "outputs": [
        {
          "output_type": "stream",
          "name": "stdout",
          "text": [
            "Status: Optimal\n",
            "       Variable  Optimal Value\n",
            "0     Product A            0.0\n",
            "1     Product B           60.0\n",
            "2  Total Profit         1800.0\n"
          ]
        }
      ]
    }
  ]
}